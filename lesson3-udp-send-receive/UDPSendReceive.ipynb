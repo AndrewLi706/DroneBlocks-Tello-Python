{
 "cells": [
  {
   "cell_type": "code",
   "execution_count": null,
   "metadata": {},
   "outputs": [],
   "source": [
    "# This example script demonstrates how to send/receive commands to/from Tello\n",
    "# This script is part of our course on Tello drone programming\n",
    "# https://learn.droneblocks.io/p/tello-drone-programming-with-python/\n",
    "\n",
    "# Import the built-in socket package\n",
    "import socket\n",
    "import time\n",
    "\n",
    "# IP and port of Tello\n",
    "tello_address = ('192.168.10.1', 8889)\n",
    "\n",
    "# Create a UDP connection that we'll send the command to\n",
    "sock = socket.socket(socket.AF_INET, socket.SOCK_DGRAM)\n",
    "\n",
    "# This \"command\" value is what lets Tello know that we want to enter command mode\n",
    "message = \"command\"\n",
    "\n",
    "# Send the message to Tello\n",
    "sock.sendto(message.encode(), tello_address)\n",
    "\n",
    "# Give Tello a bit of time to respond by adding a 1s delay (we'll make this more efficient in another script)\n",
    "time.sleep(1)\n",
    "\n",
    "# Read 128 bytes from the socket. Most of Tello responses are very small so 128 should be plenty\n",
    "response = sock.recvfrom(128)\n",
    "\n",
    "# Print message to screen\n",
    "print(response)"
   ]
  },
  {
   "cell_type": "code",
   "execution_count": null,
   "metadata": {},
   "outputs": [],
   "source": []
  }
 ],
 "metadata": {
  "kernelspec": {
   "display_name": "Python 3",
   "language": "python",
   "name": "python3"
  },
  "language_info": {
   "codemirror_mode": {
    "name": "ipython",
    "version": 3
   },
   "file_extension": ".py",
   "mimetype": "text/x-python",
   "name": "python",
   "nbconvert_exporter": "python",
   "pygments_lexer": "ipython3",
   "version": "3.6.4"
  }
 },
 "nbformat": 4,
 "nbformat_minor": 2
}
